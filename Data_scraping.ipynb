{
 "cells": [
  {
   "cell_type": "code",
   "execution_count": 4,
   "metadata": {},
   "outputs": [
    {
     "name": "stdout",
     "output_type": "stream",
     "text": [
      "Requirement already satisfied: praw in c:\\users\\user\\anaconda3\\lib\\site-packages (7.8.1)\n",
      "Requirement already satisfied: prawcore<3,>=2.4 in c:\\users\\user\\anaconda3\\lib\\site-packages (from praw) (2.4.0)\n",
      "Requirement already satisfied: update_checker>=0.18 in c:\\users\\user\\anaconda3\\lib\\site-packages (from praw) (0.18.0)\n",
      "Requirement already satisfied: websocket-client>=0.54.0 in c:\\users\\user\\anaconda3\\lib\\site-packages (from praw) (1.8.0)\n",
      "Requirement already satisfied: requests<3.0,>=2.6.0 in c:\\users\\user\\anaconda3\\lib\\site-packages (from prawcore<3,>=2.4->praw) (2.32.2)\n",
      "Requirement already satisfied: charset-normalizer<4,>=2 in c:\\users\\user\\anaconda3\\lib\\site-packages (from requests<3.0,>=2.6.0->prawcore<3,>=2.4->praw) (2.0.4)\n",
      "Requirement already satisfied: idna<4,>=2.5 in c:\\users\\user\\anaconda3\\lib\\site-packages (from requests<3.0,>=2.6.0->prawcore<3,>=2.4->praw) (3.7)\n",
      "Requirement already satisfied: urllib3<3,>=1.21.1 in c:\\users\\user\\anaconda3\\lib\\site-packages (from requests<3.0,>=2.6.0->prawcore<3,>=2.4->praw) (2.2.2)\n",
      "Requirement already satisfied: certifi>=2017.4.17 in c:\\users\\user\\anaconda3\\lib\\site-packages (from requests<3.0,>=2.6.0->prawcore<3,>=2.4->praw) (2024.6.2)\n",
      "Note: you may need to restart the kernel to use updated packages.\n"
     ]
    }
   ],
   "source": [
    "pip install praw"
   ]
  },
  {
   "cell_type": "code",
   "execution_count": 3,
   "metadata": {},
   "outputs": [],
   "source": [
    "import praw\n",
    "import pandas as pd"
   ]
  },
  {
   "cell_type": "code",
   "execution_count": 5,
   "metadata": {},
   "outputs": [],
   "source": [
    "reddit = praw.Reddit(client_id='3EQ2FCMjOih10jOdfOZ1hA', client_secret='_p0J3uXzxj38qCzajR9Z1oyPS0-DXA',\n",
    "                     user_agent='Taimoor_api')"
   ]
  },
  {
   "cell_type": "code",
   "execution_count": 6,
   "metadata": {},
   "outputs": [],
   "source": [
    "urls=['https://www.reddit.com/r/gaming/comments/11a0fu7/the_state_of_multiplayer_games_has_never_been_so/',\n",
    "                                       'https://www.reddit.com/r/rockstar/comments/148lkks/its_insane_people_actually_think_rockstar_is_done/',\n",
    "                                       'https://www.reddit.com/r/videogames/comments/12vfx94/as_i_get_older_i_prefer_single_player_games_over/',\n",
    "                                       'https://www.reddit.com/r/gaming/comments/136dhgl/why_should_i_have_to_play_video_games_like_a_part/',\n",
    "                                       'https://www.reddit.com/r/gaming/comments/u5tyfy/multiplayer_games_or_single_player_games/',\n",
    "                                       'https://www.reddit.com/r/gaming/comments/11jeial/single_player_games_over_multiplayer_games_every/',\n",
    "                                       'https://www.reddit.com/r/gaming/comments/11a0fu7/the_state_of_multiplayer_games_has_never_been_so/',\n",
    "                                       'https://www.reddit.com/r/rockstar/comments/148lkks/its_insane_people_actually_think_rockstar_is_done/',\n",
    "                                       'https://www.reddit.com/r/videogames/comments/12vfx94/as_i_get_older_i_prefer_single_player_games_over/',\n",
    "                                       'https://www.reddit.com/r/gaming/comments/136dhgl/why_should_i_have_to_play_video_games_like_a_part/',\n",
    "                                       'https://www.reddit.com/r/gaming/comments/u5tyfy/multiplayer_games_or_single_player_games/',\n",
    "                                       'https://www.reddit.com/r/gaming/comments/11jeial/single_player_games_over_multiplayer_games_every/'\n",
    "                ]"
   ]
  },
  {
   "cell_type": "code",
   "execution_count": 8,
   "metadata": {},
   "outputs": [],
   "source": [
    "# Create empty lists to store the scraped data\n",
    "titles = []\n",
    "authors = []\n",
    "scores = []\n",
    "num_comments = []\n",
    "comments = []"
   ]
  },
  {
   "cell_type": "code",
   "execution_count": 9,
   "metadata": {},
   "outputs": [],
   "source": [
    "# Iterate through the URLs and scrape data\n",
    "for url in urls:\n",
    "    submission = reddit.submission(url=url)\n",
    "    titles.append(submission.title)\n",
    "    authors.append(submission.author)\n",
    "    scores.append(submission.score)\n",
    "    num_comments.append(submission.num_comments)\n",
    "\n",
    "    submission_comments = []\n",
    "    submission.comments.replace_more(limit=None)\n",
    "    for comment in submission.comments.list():\n",
    "        submission_comments.append(comment.body)\n",
    "    \n",
    "    comments.append(submission_comments)"
   ]
  },
  {
   "cell_type": "code",
   "execution_count": 10,
   "metadata": {},
   "outputs": [],
   "source": [
    "# Create a DataFrame from the scraped data\n",
    "data = {\n",
    "    'Title': titles,\n",
    "    'Author': authors,\n",
    "    'Score': scores,\n",
    "    'Number of Comments': num_comments,\n",
    "    'Comments': comments\n",
    "}"
   ]
  },
  {
   "cell_type": "code",
   "execution_count": 12,
   "metadata": {},
   "outputs": [
    {
     "data": {
      "text/html": [
       "<div>\n",
       "<style scoped>\n",
       "    .dataframe tbody tr th:only-of-type {\n",
       "        vertical-align: middle;\n",
       "    }\n",
       "\n",
       "    .dataframe tbody tr th {\n",
       "        vertical-align: top;\n",
       "    }\n",
       "\n",
       "    .dataframe thead th {\n",
       "        text-align: right;\n",
       "    }\n",
       "</style>\n",
       "<table border=\"1\" class=\"dataframe\">\n",
       "  <thead>\n",
       "    <tr style=\"text-align: right;\">\n",
       "      <th></th>\n",
       "      <th>Title</th>\n",
       "      <th>Author</th>\n",
       "      <th>Score</th>\n",
       "      <th>Number of Comments</th>\n",
       "      <th>Comments</th>\n",
       "    </tr>\n",
       "  </thead>\n",
       "  <tbody>\n",
       "    <tr>\n",
       "      <th>0</th>\n",
       "      <td>The state of multiplayer games has never been ...</td>\n",
       "      <td>Heyvus</td>\n",
       "      <td>600</td>\n",
       "      <td>383</td>\n",
       "      <td>[I remember playing on Foundation in Halo 2 an...</td>\n",
       "    </tr>\n",
       "    <tr>\n",
       "      <th>1</th>\n",
       "      <td>Its insane people actually think Rockstar is d...</td>\n",
       "      <td>sonofloki13</td>\n",
       "      <td>205</td>\n",
       "      <td>117</td>\n",
       "      <td>[It amazes me that people can even think that ...</td>\n",
       "    </tr>\n",
       "    <tr>\n",
       "      <th>2</th>\n",
       "      <td>As I get older, I prefer single player games o...</td>\n",
       "      <td>Few_Luck_4773</td>\n",
       "      <td>286</td>\n",
       "      <td>228</td>\n",
       "      <td>[24 and \"older\" is funny to me as a fresh 40 y...</td>\n",
       "    </tr>\n",
       "    <tr>\n",
       "      <th>3</th>\n",
       "      <td>Why should I have to play video games like a p...</td>\n",
       "      <td>DickWriter69</td>\n",
       "      <td>83</td>\n",
       "      <td>328</td>\n",
       "      <td>[I mainly play single player myself, mp friend...</td>\n",
       "    </tr>\n",
       "    <tr>\n",
       "      <th>4</th>\n",
       "      <td>Multiplayer Games Or Single Player Games???</td>\n",
       "      <td>SpaztheGamer</td>\n",
       "      <td>7</td>\n",
       "      <td>19</td>\n",
       "      <td>[IMO, Mutilplayer Games peaked during the late...</td>\n",
       "    </tr>\n",
       "  </tbody>\n",
       "</table>\n",
       "</div>"
      ],
      "text/plain": [
       "                                               Title         Author  Score  \\\n",
       "0  The state of multiplayer games has never been ...         Heyvus    600   \n",
       "1  Its insane people actually think Rockstar is d...    sonofloki13    205   \n",
       "2  As I get older, I prefer single player games o...  Few_Luck_4773    286   \n",
       "3  Why should I have to play video games like a p...   DickWriter69     83   \n",
       "4        Multiplayer Games Or Single Player Games???   SpaztheGamer      7   \n",
       "\n",
       "   Number of Comments                                           Comments  \n",
       "0                 383  [I remember playing on Foundation in Halo 2 an...  \n",
       "1                 117  [It amazes me that people can even think that ...  \n",
       "2                 228  [24 and \"older\" is funny to me as a fresh 40 y...  \n",
       "3                 328  [I mainly play single player myself, mp friend...  \n",
       "4                  19  [IMO, Mutilplayer Games peaked during the late...  "
      ]
     },
     "execution_count": 12,
     "metadata": {},
     "output_type": "execute_result"
    }
   ],
   "source": [
    "df = pd.DataFrame(data)\n",
    "df.head()"
   ]
  },
  {
   "cell_type": "code",
   "execution_count": 13,
   "metadata": {},
   "outputs": [],
   "source": [
    "# Save the DataFrame as a CSV file\n",
    "df.to_csv('reddit_data.csv', index=False)"
   ]
  }
 ],
 "metadata": {
  "kernelspec": {
   "display_name": "base",
   "language": "python",
   "name": "python3"
  },
  "language_info": {
   "codemirror_mode": {
    "name": "ipython",
    "version": 3
   },
   "file_extension": ".py",
   "mimetype": "text/x-python",
   "name": "python",
   "nbconvert_exporter": "python",
   "pygments_lexer": "ipython3",
   "version": "3.12.4"
  }
 },
 "nbformat": 4,
 "nbformat_minor": 2
}
